{
 "cells": [
  {
   "cell_type": "markdown",
   "metadata": {},
   "source": [
    "# Bus\n",
    "\n",
    "This bus has a passenger entry and exit control system to monitor the number of occupants it carries and thus detect when there is too high a capacity.\n",
    "\n",
    "At each stop the entry and exit of passengers is represented by a tuple consisting of two integer numbers.\n",
    "```\n",
    "bus_stop = (in, out)\n",
    "```\n",
    "The succession of stops is represented by a list of these tuples.\n",
    "```\n",
    "stops = [(in1, out1), (in2, out2), (in3, out3), (in4, out4)]\n",
    "```\n",
    "\n",
    "## Goals:\n",
    "* lists, tuples\n",
    "* while/for loops\n",
    "* minimum, maximum, length\n",
    "* average, standard deviation\n",
    "\n",
    "## Tasks\n",
    "1. Calculate the number of stops.\n",
    "2. Assign to a variable a list whose elements are the number of passengers at each stop (in-out),\n",
    "3. Find the maximum occupation of the bus.\n",
    "4. Calculate the average occupation. And the standard deviation.\n"
   ]
  },
  {
   "cell_type": "code",
   "execution_count": 1,
   "metadata": {},
   "outputs": [
    {
     "data": {
      "text/plain": [
       "[(), (), (), (), ()]"
      ]
     },
     "execution_count": 1,
     "metadata": {},
     "output_type": "execute_result"
    }
   ],
   "source": [
    "# variables\n",
    "\n",
    "bus_stop_0 = ()\n",
    "bus_stop_1 = ()\n",
    "bus_stop_2 = ()\n",
    "bus_stop_3 = ()\n",
    "bus_stop_4 = ()\n",
    "bus_stop_5 = ()\n",
    "\n",
    "stops = [bus_stop_1, bus_stop_2, bus_stop_3, bus_stop_4, bus_stop_5]\n",
    "\n",
    "stops"
   ]
  },
  {
   "cell_type": "code",
   "execution_count": 2,
   "metadata": {},
   "outputs": [
    {
     "name": "stdout",
     "output_type": "stream",
     "text": [
      "The number of stops is 5\n"
     ]
    }
   ],
   "source": [
    "# 1. Calculate the number of stops.\n",
    "\n",
    "number_of_stops = len(stops)\n",
    "print(\"The number of stops is\", number_of_stops)"
   ]
  },
  {
   "cell_type": "code",
   "execution_count": 3,
   "metadata": {
    "scrolled": true
   },
   "outputs": [
    {
     "ename": "NameError",
     "evalue": "name 'the_number_of_passengers_stop_0' is not defined",
     "output_type": "error",
     "traceback": [
      "\u001b[0;31m---------------------------------------------------------------------------\u001b[0m",
      "\u001b[0;31mNameError\u001b[0m                                 Traceback (most recent call last)",
      "\u001b[0;32m<ipython-input-3-a768776030b7>\u001b[0m in \u001b[0;36m<module>\u001b[0;34m\u001b[0m\n\u001b[1;32m     12\u001b[0m \u001b[0;34m\u001b[0m\u001b[0m\n\u001b[1;32m     13\u001b[0m \u001b[0;31m# the_number_of_passengers_stop_0 = bus_stop_0[0] - bus_stop_0[1]\u001b[0m\u001b[0;34m\u001b[0m\u001b[0;34m\u001b[0m\u001b[0;34m\u001b[0m\u001b[0m\n\u001b[0;32m---> 14\u001b[0;31m \u001b[0mthe_number_of_passengers_stop_1\u001b[0m \u001b[0;34m=\u001b[0m \u001b[0mthe_number_of_passengers_stop_0\u001b[0m \u001b[0;34m+\u001b[0m \u001b[0mbus_stop_1\u001b[0m\u001b[0;34m[\u001b[0m\u001b[0;36m0\u001b[0m\u001b[0;34m]\u001b[0m \u001b[0;34m-\u001b[0m \u001b[0mbus_stop_1\u001b[0m\u001b[0;34m[\u001b[0m\u001b[0;36m1\u001b[0m\u001b[0;34m]\u001b[0m\u001b[0;34m\u001b[0m\u001b[0;34m\u001b[0m\u001b[0m\n\u001b[0m\u001b[1;32m     15\u001b[0m \u001b[0mthe_number_of_passengers_stop_2\u001b[0m \u001b[0;34m=\u001b[0m \u001b[0mthe_number_of_passengers_stop_1\u001b[0m \u001b[0;34m+\u001b[0m \u001b[0mbus_stop_2\u001b[0m\u001b[0;34m[\u001b[0m\u001b[0;36m0\u001b[0m\u001b[0;34m]\u001b[0m \u001b[0;34m-\u001b[0m \u001b[0mbus_stop_2\u001b[0m\u001b[0;34m[\u001b[0m\u001b[0;36m1\u001b[0m\u001b[0;34m]\u001b[0m\u001b[0;34m\u001b[0m\u001b[0;34m\u001b[0m\u001b[0m\n\u001b[1;32m     16\u001b[0m \u001b[0mthe_number_of_passengers_stop_3\u001b[0m \u001b[0;34m=\u001b[0m \u001b[0mthe_number_of_passengers_stop_2\u001b[0m \u001b[0;34m+\u001b[0m \u001b[0mbus_stop_3\u001b[0m\u001b[0;34m[\u001b[0m\u001b[0;36m0\u001b[0m\u001b[0;34m]\u001b[0m \u001b[0;34m-\u001b[0m \u001b[0mbus_stop_3\u001b[0m\u001b[0;34m[\u001b[0m\u001b[0;36m1\u001b[0m\u001b[0;34m]\u001b[0m\u001b[0;34m\u001b[0m\u001b[0;34m\u001b[0m\u001b[0m\n",
      "\u001b[0;31mNameError\u001b[0m: name 'the_number_of_passengers_stop_0' is not defined"
     ]
    }
   ],
   "source": [
    "# 2. Assign a variable a list whose elements are the number of passengers in each stop: \n",
    "# Each item depends on the previous item in the list + in - out.\n",
    "\n",
    "bus_stop_0 = (0, 0)\n",
    "bus_stop_1 = (2, 0)\n",
    "bus_stop_2 = (7, 0)\n",
    "bus_stop_3 = (5, 2)\n",
    "bus_stop_4 = (11, 3)\n",
    "bus_stop_5 = (5, 8)\n",
    "\n",
    "stops = [bus_stop_1, bus_stop_2, bus_stop_3, bus_stop_4, bus_stop_5]\n",
    "\n",
    "# the_number_of_passengers_stop_0 = bus_stop_0[0] - bus_stop_0[1]\n",
    "the_number_of_passengers_stop_1 = the_number_of_passengers_stop_0 + bus_stop_1[0] - bus_stop_1[1]\n",
    "the_number_of_passengers_stop_2 = the_number_of_passengers_stop_1 + bus_stop_2[0] - bus_stop_2[1]\n",
    "the_number_of_passengers_stop_3 = the_number_of_passengers_stop_2 + bus_stop_3[0] - bus_stop_3[1]\n",
    "the_number_of_passengers_stop_4 = the_number_of_passengers_stop_3 + bus_stop_4[0] - bus_stop_4[1]\n",
    "the_number_of_passengers_stop_5 = the_number_of_passengers_stop_4 + bus_stop_5[0] - bus_stop_5[1]\n",
    "\n",
    "print(\"The number of passengers at stop 1 is\", the_number_of_passengers_stop_1)\n",
    "print(\"The number of passengers at stop 2 is\", the_number_of_passengers_stop_2)\n",
    "print(\"The number of passengers at stop 3 is\", the_number_of_passengers_stop_3)\n",
    "print(\"The number of passengers at stop 4 is\", the_number_of_passengers_stop_4)\n",
    "print(\"The number of passengers at stop 5 is\", the_number_of_passengers_stop_5)\n",
    "\n"
   ]
  },
  {
   "cell_type": "code",
   "execution_count": 4,
   "metadata": {},
   "outputs": [
    {
     "name": "stdout",
     "output_type": "stream",
     "text": [
      "[2, 7, 3, 8, -3]\n"
     ]
    },
    {
     "data": {
      "text/plain": [
       "[2, 9, 12, 20, 17]"
      ]
     },
     "execution_count": 4,
     "metadata": {},
     "output_type": "execute_result"
    }
   ],
   "source": [
    "the_number_of_passengers_by_stop = []\n",
    "\n",
    "for (x, y) in stops:\n",
    "    the_number_of_passengers_by_stop.append(x - y)\n",
    "    \n",
    "print(the_number_of_passengers_by_stop)\n",
    "\n",
    "\n",
    "\n",
    "# total_passengers = [0]\n",
    "\n",
    "# for i in the_number_of_passengers:\n",
    "#     total_passengers += i\n",
    "#     total_passengers.append(the_number_of_passengers[i-1] + stops[i][0] - stops[i][1])\n",
    "# total_passengers\n",
    "\n",
    "\n",
    "\n",
    "import itertools as it\n",
    "import operator\n",
    "\n",
    "total_passengers = list(it.accumulate(the_number_of_passengers_by_stop))\n",
    "total_passengers\n"
   ]
  },
  {
   "cell_type": "code",
   "execution_count": 5,
   "metadata": {},
   "outputs": [
    {
     "name": "stdout",
     "output_type": "stream",
     "text": [
      "The maximum occupation is 20\n"
     ]
    }
   ],
   "source": [
    "# 3. Find the maximum occupation of the bus.\n",
    "\n",
    "print(\"The maximum occupation is\", max(total_passengers))"
   ]
  },
  {
   "cell_type": "code",
   "execution_count": 6,
   "metadata": {},
   "outputs": [
    {
     "name": "stdout",
     "output_type": "stream",
     "text": [
      "The average pccupation is 12.0\n",
      "The standard deviation is 6.29285308902091\n"
     ]
    }
   ],
   "source": [
    "# 4. Calculate the average occupation. And the standard deviation.\n",
    "\n",
    "import numpy\n",
    "\n",
    "print(\"The average pccupation is\", numpy.mean(total_passengers))\n",
    "print(\"The standard deviation is\", numpy.std(total_passengers))"
   ]
  }
 ],
 "metadata": {
  "kernelspec": {
   "display_name": "Python 3",
   "language": "python",
   "name": "python3"
  },
  "language_info": {
   "codemirror_mode": {
    "name": "ipython",
    "version": 3
   },
   "file_extension": ".py",
   "mimetype": "text/x-python",
   "name": "python",
   "nbconvert_exporter": "python",
   "pygments_lexer": "ipython3",
   "version": "3.7.4"
  }
 },
 "nbformat": 4,
 "nbformat_minor": 2
}
