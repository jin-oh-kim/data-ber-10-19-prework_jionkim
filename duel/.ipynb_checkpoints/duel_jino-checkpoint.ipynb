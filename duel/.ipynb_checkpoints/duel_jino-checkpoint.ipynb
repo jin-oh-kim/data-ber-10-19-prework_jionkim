{
 "cells": [
  {
   "cell_type": "markdown",
   "metadata": {},
   "source": [
    "# Duel of sorcerers\n",
    "You are witnessing an epic battle between two powerful sorcerers: Gandalf and Saruman. Each sorcerer has 10 spells of variable power in their mind and they are going to throw them one after the other. The winner of the duel will be the one who wins more of those clashes between spells. Spells are represented as a list of 10 integers whose value equals the power of the spell.\n",
    "```\n",
    "gandalf = [10, 11, 13, 30, 22, 11, 10, 33, 22, 22]\n",
    "saruman = [23, 66, 12, 43, 12, 10, 44, 23, 12, 17]\n",
    "```\n",
    "For example:\n",
    "1. The first clash is won by Saruman: 10 against 23, wins 23\n",
    "2. The second clash wins Saruman: 11 against 66, wins 66\n",
    "3. etc.\n",
    "\n",
    "\n",
    "You will create two variables, one for each sorcerer, where the sum of clashes won will be stored. Depending on which variable is greater at the end of the duel, you will show one of the following three results on the screen:\n",
    "* Gandalf wins\n",
    "* Saruman wins\n",
    "* Tie\n",
    "\n",
    "<img src=\"images/content_lightning_bolt_big.jpg\" width=\"400\">"
   ]
  },
  {
   "cell_type": "markdown",
   "metadata": {},
   "source": [
    "## Solution"
   ]
  },
  {
   "cell_type": "code",
   "execution_count": 1,
   "metadata": {},
   "outputs": [],
   "source": [
    "# Assign spell power lists to variables\n",
    "\n",
    "gandalf = [10, 11, 13, 30, 22, 11, 10, 33, 22, 22]\n",
    "saruman = [23, 66, 12, 43, 12, 10, 44, 23, 12, 17]"
   ]
  },
  {
   "cell_type": "code",
   "execution_count": 2,
   "metadata": {},
   "outputs": [],
   "source": [
    "# Assign 0 to each variable that stores the victories\n",
    "\n",
    "gandalf_wins = 0\n",
    "saruman_wins = 0\n",
    "tie = 0\n"
   ]
  },
  {
   "cell_type": "code",
   "execution_count": 3,
   "metadata": {
    "scrolled": true
   },
   "outputs": [
    {
     "name": "stdout",
     "output_type": "stream",
     "text": [
      "Saruman beats Gandalf on the duel.\n",
      "Saruman beats Gandalf on the duel.\n",
      "Saruman beats Gandalf on the duel.\n",
      "Gandalf beats Saruman on the duel.\n",
      "Saruman beats Gandalf on the duel.\n",
      "Saruman beats Gandalf on the duel.\n",
      "Saruman beats Gandalf on the duel.\n",
      "Gandalf beats Saruman on the duel.\n",
      "Saruman beats Gandalf on the duel.\n",
      "Saruman beats Gandalf on the duel.\n",
      "2\n",
      "8\n",
      "0\n",
      "2 8 0\n",
      "===== This result is abnormal. :( =====\n"
     ]
    }
   ],
   "source": [
    "# Execution of spell clashes\n",
    "\n",
    "\n",
    "for i in range(0, len(gandalf)):\n",
    "    for j in range(0, len(saruman)):\n",
    "        if gandalf[i] > saruman[j]:\n",
    "            print(\"Gandalf beats Saruman on the duel.\")\n",
    "            gandalf_wins = gandalf_wins + 1\n",
    "        elif gandalf[i] < saruman[j]:\n",
    "            print(\"Saruman beats Gandalf on the duel.\")\n",
    "            saruman_wins = saruman_wins + 1\n",
    "        else:\n",
    "            print(\"The duel is tied.\")\n",
    "            tie = tie + 1\n",
    "        break\n",
    "\n",
    "print(gandalf_wins)\n",
    "print(saruman_wins)\n",
    "print(tie)\n",
    "\n",
    "print(gandalf_wins, saruman_wins, tie)\n",
    "\n",
    "print(\"=\" * 5, \"This result is abnormal. :(\", \"=\" * 5)\n",
    "\n",
    "\n",
    "\n",
    "# final = []\n",
    "# for i in range(0, len(gandalf)):\n",
    "#     for j in range(0, len(saruman)):\n",
    "#         if int[i] > int[j]:\n",
    "#             final.append(1)\n",
    "#         elif int[i] < int[j]:\n",
    "#             final.append(2)\n",
    "#         else:\n",
    "#             final.append(0)\n",
    "\n",
    "\n",
    "\n",
    "# [i for i in gandalf if j in saruman]\n",
    "\n",
    "\n",
    "\n",
    "# for i in gandalf:\n",
    "#     for j in saruman:\n",
    "#         if int(i) > int(j):\n",
    "#             print(\"Gandalf beats Saruman on the duel.\")\n",
    "#             gandalf_wins = +1\n",
    "#         elif int(i) < int(j):\n",
    "#             print(\"Saruman beats Gandalf on the duel.\")\n",
    "#             saruman_wins = +1\n",
    "#         else:\n",
    "#             print(\"The duel is tied.\")\n",
    "#             tie = +1\n",
    "#         break\n",
    "\n",
    "# print(gandalf_wins)\n",
    "# print(saruman_wins)\n",
    "# print(tie)\n",
    "\n",
    "\n",
    "\n",
    "# if i in gandalf > j in saruman:\n",
    "#     gandalf_wins + 1\n",
    "# elif i in gandalf  < j in saruman:\n",
    "#     saruman_wins +1\n",
    "# else i in gandalf  == j in saruman::\n",
    "#     tie + 1\n",
    "\n",
    "\n"
   ]
  },
  {
   "cell_type": "code",
   "execution_count": 4,
   "metadata": {},
   "outputs": [
    {
     "name": "stdout",
     "output_type": "stream",
     "text": [
      "Saruman wins\n"
     ]
    }
   ],
   "source": [
    "# We check who has won, do not forget the possibility of a draw.\n",
    "# Print the result based on the winner.\n",
    "\n",
    "if gandalf_wins > saruman_wins:\n",
    "    print(\"Gadalf wins\")\n",
    "elif gandalf_wins < saruman_wins:\n",
    "    print(\"Saruman wins\")\n",
    "else:\n",
    "    print(\"The duel is tied.\")\n",
    "\n"
   ]
  },
  {
   "cell_type": "markdown",
   "metadata": {},
   "source": [
    "## Goals\n",
    "\n",
    "1. Treatment of lists\n",
    "2. Use of **for loop**\n",
    "3. Use of conditional **if-elif-else**\n",
    "4. Use of the functions **range(), len()**\n",
    "5. Print"
   ]
  },
  {
   "cell_type": "markdown",
   "metadata": {},
   "source": [
    "## Bonus\n",
    "\n",
    "1. Spells now have a name and there is a dictionary that relates that name to a power.\n",
    "2. A sorcerer wins if he succeeds in winning 3 spell clashes in a row.\n",
    "3. Average of each of the spell lists.\n",
    "4. Standard deviation of each of the spell lists.\n",
    "\n",
    "```\n",
    "POWER = {\n",
    "    'Fireball': 50, \n",
    "    'Lightning bolt': 40, \n",
    "    'Magic arrow': 10, \n",
    "    'Black Tentacles': 25, \n",
    "    'Contagion': 45\n",
    "}\n",
    "\n",
    "gandalf = ['Fireball', 'Lightning bolt', 'Lightning bolt', 'Magic arrow', 'Fireball', \n",
    "           'Magic arrow', 'Lightning bolt', 'Fireball', 'Fireball', 'Fireball']\n",
    "saruman = ['Contagion', 'Contagion', 'Black Tentacles', 'Fireball', 'Black Tentacles', \n",
    "           'Lightning bolt', 'Magic arrow', 'Contagion', 'Magic arrow', 'Magic arrow']\n",
    "```\n",
    "\n",
    "Good luck!"
   ]
  },
  {
   "cell_type": "code",
   "execution_count": 5,
   "metadata": {},
   "outputs": [],
   "source": [
    "# 1. Spells now have a name and there is a dictionary that relates that name to a power.\n",
    "# variables\n",
    "\n",
    "POWER = {\n",
    "    'Fireball': 50, \n",
    "    'Lightning bolt': 40, \n",
    "    'Magic arrow': 10, \n",
    "    'Black Tentacles': 25, \n",
    "    'Contagion': 45\n",
    "}\n",
    "\n",
    "gandalf = ['Fireball', 'Lightning bolt', 'Lightning bolt', 'Magic arrow', 'Fireball', \n",
    "           'Magic arrow', 'Lightning bolt', 'Fireball', 'Magic arrow', 'Fireball']\n",
    "saruman = ['Contagion', 'Contagion', 'Black Tentacles', 'Fireball', 'Black Tentacles', \n",
    "           'Lightning bolt', 'Magic arrow', 'Contagion', 'Magic arrow', 'Magic arrow']"
   ]
  },
  {
   "cell_type": "code",
   "execution_count": 6,
   "metadata": {},
   "outputs": [
    {
     "name": "stdout",
     "output_type": "stream",
     "text": [
      "Gandalf's Spell [50, 40, 40, 10, 50, 10, 40, 50, 10, 50]\n",
      "Saruman's Spell [45, 45, 25, 50, 25, 40, 10, 45, 10, 10]\n"
     ]
    }
   ],
   "source": [
    "# Assign spell power lists to variables\n",
    "\n",
    "gandalf_spell = []\n",
    "saruman_spell = []\n",
    "# for spell in range(0, len(gandalf)):\n",
    "for spell in gandalf:\n",
    "    gandalf_spell.append(POWER.get(spell))\n",
    "\n",
    "for spell in saruman:\n",
    "    saruman_spell.append(POWER.get(spell))\n",
    "\n",
    "print(\"Gandalf's Spell\", gandalf_spell)\n",
    "print(\"Saruman's Spell\", saruman_spell)\n",
    "\n",
    "# list(d.values())\n",
    "# list(d.get())\n",
    "\n"
   ]
  },
  {
   "cell_type": "code",
   "execution_count": 7,
   "metadata": {},
   "outputs": [
    {
     "name": "stdout",
     "output_type": "stream",
     "text": [
      "['Gandalf', 'Saruman', 'Saruman', 'Saruman', 'Gandalf', 'Saruman', 'Saruman', 'Gandalf', 'Saruman', 'Gandalf']\n",
      "===== It doesn't work. :( =====\n"
     ]
    }
   ],
   "source": [
    "# 2. A sorcerer wins if he succeeds in winning 3 spell clashes in a row.\n",
    "# Execution of spell clashes\n",
    "\n",
    "winner = []\n",
    "\n",
    "for i in range(0, len(gandalf_spell)):\n",
    "    for j in range(0, len(saruman_spell)):\n",
    "        if gandalf_spell[i] > saruman_spell[j]:\n",
    "            winner.append(\"Gandalf\")\n",
    "        elif gandalf_spell[i] < saruman_spell[j]:\n",
    "            winner.append(\"Saruman\")\n",
    "        else:\n",
    "            winner.append(\"Tie\")\n",
    "        break\n",
    "\n",
    "print(winner)\n",
    "\n",
    "print(\"=\" * 5, \"It doesn't work. :(\", \"=\" * 5)\n",
    "\n",
    "# check for 3 wins in a row\n",
    "\n",
    "# check the winner\n"
   ]
  },
  {
   "cell_type": "code",
   "execution_count": 8,
   "metadata": {},
   "outputs": [
    {
     "name": "stdout",
     "output_type": "stream",
     "text": [
      "The average of Gandalf's Spell list is 35.0\n",
      "The average of Saruman's Spell list is 30.5\n"
     ]
    }
   ],
   "source": [
    "# 3. Average of each of the spell lists.\n",
    "\n",
    "import numpy\n",
    "\n",
    "print(\"The average of Gandalf's Spell list is\", numpy.mean(gandalf_spell))\n",
    "print(\"The average of Saruman's Spell list is\", numpy.mean(saruman_spell))\n"
   ]
  },
  {
   "cell_type": "code",
   "execution_count": 9,
   "metadata": {},
   "outputs": [
    {
     "name": "stdout",
     "output_type": "stream",
     "text": [
      "The standard deviation of Gandalf's Spell list is 16.881943016134134\n",
      "The standard deviation of Saruman's Spell list is 15.56438241627338\n"
     ]
    }
   ],
   "source": [
    "# 4. Standard deviation of each of the spell lists.\n",
    "\n",
    "print(\"The standard deviation of Gandalf's Spell list is\", numpy.std(gandalf_spell))\n",
    "print(\"The standard deviation of Saruman's Spell list is\", numpy.std(saruman_spell))"
   ]
  }
 ],
 "metadata": {
  "kernelspec": {
   "display_name": "Python 3",
   "language": "python",
   "name": "python3"
  },
  "language_info": {
   "codemirror_mode": {
    "name": "ipython",
    "version": 3
   },
   "file_extension": ".py",
   "mimetype": "text/x-python",
   "name": "python",
   "nbconvert_exporter": "python",
   "pygments_lexer": "ipython3",
   "version": "3.7.4"
  }
 },
 "nbformat": 4,
 "nbformat_minor": 2
}
